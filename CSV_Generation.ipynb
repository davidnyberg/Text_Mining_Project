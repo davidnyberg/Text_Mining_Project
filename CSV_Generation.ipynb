{
 "cells": [
  {
   "cell_type": "code",
   "execution_count": 161,
   "metadata": {},
   "outputs": [],
   "source": [
    "import pandas as pd"
   ]
  },
  {
   "cell_type": "code",
   "execution_count": 195,
   "metadata": {},
   "outputs": [],
   "source": [
    "\"\"\"\n",
    "Input: \n",
    "    Text file containing all the generated fake reviews from GPT2 fine tuned model\n",
    "Output:\n",
    "    Saves a 'fake_reviews.csv' in the current directory that labels every review as fake\n",
    "    \n",
    "Fake reviews are filtered to remove \\n symbol and the GTP2 model \n",
    "included some lines containing only equal signs which are also removed.\n",
    "\"\"\"\n",
    "def create_df_from_txt(path):\n",
    "    \n",
    "    review_list = []\n",
    "    substr = \"======\"\n",
    "    with open(\"gpt_2_gen_texts.txt\", 'r') as generated_reviews:\n",
    "        for line in generated_reviews:\n",
    "            #append all lines that are not equal signs\n",
    "            if substr not in line:\n",
    "                #remove newline token with [:-1]\n",
    "                review_list.append(line[:-1])\n",
    "                \n",
    "    df = pd.DataFrame(review_list, columns=['Review'])\n",
    "    df['Real'] = 0\n",
    "    df.dropna(inplace=True)\n",
    "    \n",
    "    df.to_csv(\"fake_reviews.csv\", index=False)\n",
    "    print(\"Saved fake_reviews.csv\")\n",
    "    return df"
   ]
  },
  {
   "cell_type": "code",
   "execution_count": 196,
   "metadata": {},
   "outputs": [
    {
     "name": "stdout",
     "output_type": "stream",
     "text": [
      "Saved fake_reviews.csv\n"
     ]
    }
   ],
   "source": [
    "generate_reviews_path = \"gpt_2_gen_texts.txt\"\n",
    "d = create_df_from_txt(generate_reviews_path)"
   ]
  },
  {
   "cell_type": "code",
   "execution_count": 197,
   "metadata": {},
   "outputs": [],
   "source": [
    "real_reviews = pd.read_csv(\"real_reviews.csv\")\n",
    "fake_reviews = pd.read_csv(\"fake_reviews.csv\")"
   ]
  },
  {
   "cell_type": "code",
   "execution_count": 198,
   "metadata": {},
   "outputs": [],
   "source": [
    "#50% real 50% fake in order to avoid biased data\n",
    "real_reviews = real_reviews.iloc[0:fake_reviews.shape[0]]\n",
    "assert(real_reviews.shape == fake_reviews.shape)"
   ]
  },
  {
   "cell_type": "code",
   "execution_count": 202,
   "metadata": {},
   "outputs": [],
   "source": [
    "merged_df = pd.concat([fake_reviews, real_reviews], ignore_index=True)\n",
    "merged_df.to_csv(\"classifier_data.csv\", index=False)"
   ]
  },
  {
   "cell_type": "code",
   "execution_count": null,
   "metadata": {},
   "outputs": [],
   "source": []
  }
 ],
 "metadata": {
  "kernelspec": {
   "display_name": "Python 3",
   "language": "python",
   "name": "python3"
  },
  "language_info": {
   "codemirror_mode": {
    "name": "ipython",
    "version": 3
   },
   "file_extension": ".py",
   "mimetype": "text/x-python",
   "name": "python",
   "nbconvert_exporter": "python",
   "pygments_lexer": "ipython3",
   "version": "3.7.6"
  }
 },
 "nbformat": 4,
 "nbformat_minor": 4
}
