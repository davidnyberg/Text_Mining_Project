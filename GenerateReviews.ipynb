{
 "cells": [
  {
   "cell_type": "code",
   "execution_count": 1,
   "metadata": {},
   "outputs": [],
   "source": [
    "#!pip install -q gpt-2-simple\n",
    "#!pip install tensorflow==1.15"
   ]
  },
  {
   "cell_type": "code",
   "execution_count": 1,
   "metadata": {
    "colab": {
     "base_uri": "https://localhost:8080/"
    },
    "id": "RYV2R7ZK99b-",
    "outputId": "884d49e8-54f8-48d5-a43f-d976479b9197"
   },
   "outputs": [
    {
     "name": "stdout",
     "output_type": "stream",
     "text": [
      "WARNING:tensorflow:\n",
      "The TensorFlow contrib module will not be included in TensorFlow 2.0.\n",
      "For more information, please see:\n",
      "  * https://github.com/tensorflow/community/blob/master/rfcs/20180907-contrib-sunset.md\n",
      "  * https://github.com/tensorflow/addons\n",
      "  * https://github.com/tensorflow/io (for I/O related ops)\n",
      "If you depend on functionality not listed there, please file an issue.\n",
      "\n"
     ]
    }
   ],
   "source": [
    "import gpt_2_simple as gpt2\n",
    "import os\n",
    "\n",
    "model_name = \"124M\"\n",
    "if not os.path.isdir(os.path.join(\"models\", model_name)):\n",
    "    gpt2.download_gpt2(model_name=model_name)"
   ]
  },
  {
   "cell_type": "code",
   "execution_count": 2,
   "metadata": {},
   "outputs": [
    {
     "name": "stdout",
     "output_type": "stream",
     "text": [
      "Loading checkpoint checkpoint/fine_tune_1/model-1500\n",
      "INFO:tensorflow:Restoring parameters from checkpoint/fine_tune_1/model-1500\n"
     ]
    }
   ],
   "source": [
    "sess = gpt2.start_tf_sess()\n",
    "gpt2.load_gpt2(sess, run_name='fine_tune_1')"
   ]
  },
  {
   "cell_type": "code",
   "execution_count": 3,
   "metadata": {},
   "outputs": [],
   "source": [
    "\"\"\"\n",
    "Input:\n",
    "    A topic item to generate reviews for (string), and a confidence for the model (float)\n",
    "    Confidence of 1 will generate safe reviews, 0 can generate more flavorful reviews\n",
    "\n",
    "Output:\n",
    "    Returns a list of 5 reviews\n",
    "\"\"\"\n",
    "def generate_review(review_item, confidence):\n",
    "    assert(type(review_item) == str)\n",
    "    \n",
    "    return gpt2.generate(sess,\n",
    "                  run_name='fine_tune_1',\n",
    "                  length=150,\n",
    "                  temperature= 0.9,\n",
    "                  prefix=review_item,\n",
    "                  nsamples=1,\n",
    "                  return_as_list=True,\n",
    "                  )"
   ]
  },
  {
   "cell_type": "code",
   "execution_count": 150,
   "metadata": {},
   "outputs": [],
   "source": [
    "review = generate_review(\"bad service\", 0.1)"
   ]
  },
  {
   "cell_type": "code",
   "execution_count": 151,
   "metadata": {},
   "outputs": [
    {
     "data": {
      "text/plain": [
       "[\"bad service. There are better places in the state for desert, and those are probably the better.\\nFirst time here, was very good. Seated on the patio and enjoyed the conversation between staff. Definitely coming back soon.\\nDelicious! The crust and margarita is my favorite. Service is impeccable.\\nHave been waiting 20 mins for them to even get a table. Only declined the ordering off the food. I am sick and tired of this place. Not worth it.\\nPerfect location for lunch. Great service, staff is very friendly and knowledgeable.\\nFav neighborhood shop. Had a great vegetarian and vegan options. Great selection of wines. Best customer service place for sure.\\nGreat food. Great service. I recommend the Cubano with avocado\\nI really like this place.  They have a lot of good food and fantastic prices.  It's next level compared to PF Changs on City Road.\\nBreadcrumbs for the soul!!!  You really really\",\n",
       " \"bad service!!\\nGreat coffee and food. The staff is always very friendly. \\n\\nYummy donuts.\\nThis Triple D is hands down the best tasting restaurant in Vegas. Great service, great ales!\\nP-s-t's the Bob Marley! Best Bob Marley in the world! Best Bob's in Madison! Only kidding! It's bought by Tony\\nAmazingly delicious! My personal favorite is the homemade guacamole. Friendly staff and very clean! Thank you!!\\nDon't miss this place when you are craving Thai food. It has amazing flavor and the service is great. Highly recommend.\\nOMG Super fabulous! Great quality for a good price. Very friendly service. Food came out fast and hot. Very clean place. Love it!\\nOne of the best apps I've ever had!  Service was great and food was creative (from the doughnuts to the pancakes). Cheers!\\nAmazing experience. Great service. Always consistent,\"]"
      ]
     },
     "execution_count": 151,
     "metadata": {},
     "output_type": "execute_result"
    }
   ],
   "source": [
    "gpt2.generate(sess,\n",
    "              run_name='fine_tune_1',\n",
    "              length=150,\n",
    "              temperature= 0.9,\n",
    "              nsamples=1,\n",
    "              batch_size=10\n",
    "              return_as_list=True,\n",
    "              )"
   ]
  },
  {
   "cell_type": "code",
   "execution_count": 148,
   "metadata": {},
   "outputs": [
    {
     "data": {
      "text/plain": [
       "[\"bad service. J'y vais de la baguette était un plat des délicieux et la place de vr les bières et les assiettes.\",\n",
       " 'Great place to have some family cooking.  Food is consistently exceptional.  Service is excellent.   Would highly recommend!',\n",
       " 'I love the drinks excellent customer service is amazing and the cool bar to come for a quick amazing food',\n",
       " \"I didn't really like the drinks I tried but the food is great, the price is good with the pool and friendly atmosphere. I'll definitely be  going back.\",\n",
       " 'We had a great time on our lunch date in Montreal. Being from Vancouver, the service was very good and the food was excellent.',\n",
       " 'Very friendly staff . Its like a restaurant after a long day of studying. Food is delicious . Prices are great . Definitely will recommend .',\n",
       " \"Food is such a disappointment! Meats are really cold, staff barely speak English! I don't think I'll ever\"]"
      ]
     },
     "execution_count": 148,
     "metadata": {},
     "output_type": "execute_result"
    }
   ],
   "source": [
    "review[0].split('\\n')"
   ]
  },
  {
   "cell_type": "code",
   "execution_count": null,
   "metadata": {},
   "outputs": [],
   "source": [
    "\"\"\"\n",
    "Used in google colab for generation \n",
    "\"\"\"\n",
    "%tensorflow_version 1.x\n",
    "!pip install -q gpt-2-simple\n",
    "import gpt_2_simple as gpt2\n",
    "gpt2.mount_gdrive()\n",
    "gpt2.download_gpt2(model_name=\"124M\")\n",
    "gpt2.copy_checkpoint_from_gdrive(run_name='fine_tune_1')\n",
    "sess = gpt2.start_tf_sess()\n",
    "gpt2.load_gpt2(sess, run_name='fine_tune_1')\n",
    "\n",
    "gpt2.generate_to_file(sess,\n",
    "              run_name='fine_tune_1',\n",
    "              length=150,\n",
    "              temperature=1.0,\n",
    "              nsamples=40000,\n",
    "              batch_size=20\n",
    "              )"
   ]
  },
  {
   "cell_type": "code",
   "execution_count": null,
   "metadata": {},
   "outputs": [],
   "source": []
  }
 ],
 "metadata": {
  "colab": {
   "name": "GenerateReviews.ipynb",
   "provenance": []
  },
  "kernelspec": {
   "display_name": "Python 3",
   "language": "python",
   "name": "python3"
  },
  "language_info": {
   "codemirror_mode": {
    "name": "ipython",
    "version": 3
   },
   "file_extension": ".py",
   "mimetype": "text/x-python",
   "name": "python",
   "nbconvert_exporter": "python",
   "pygments_lexer": "ipython3",
   "version": "3.7.6"
  }
 },
 "nbformat": 4,
 "nbformat_minor": 1
}
