{
 "cells": [
  {
   "cell_type": "code",
   "execution_count": 1,
   "metadata": {},
   "outputs": [],
   "source": [
    "import pandas as pd\n",
    "import numpy as np"
   ]
  },
  {
   "cell_type": "code",
   "execution_count": 2,
   "metadata": {},
   "outputs": [],
   "source": [
    "reviews_path = 'yelp_data/yelp_academic_dataset_review.json'\n",
    "business_path = 'yelp_data/yelp_academic_dataset_business.json'\n",
    "\n",
    "reviews_json = pd.read_json(reviews_path, lines=True, chunksize=1000000)\n",
    "business_df = pd.read_json(business_path, lines=True)"
   ]
  },
  {
   "cell_type": "code",
   "execution_count": 8,
   "metadata": {},
   "outputs": [],
   "source": [
    "\"\"\"\n",
    "Filters out very long reviews\n",
    "\"\"\"\n",
    "def filter_reviews(df):\n",
    "    res = []\n",
    "    for i in df.text.values:\n",
    "        if len(i) < 150:\n",
    "            res.append(i)\n",
    "    print(\"Number of reviews: \", len(res))\n",
    "    return res"
   ]
  },
  {
   "cell_type": "code",
   "execution_count": 3,
   "metadata": {},
   "outputs": [],
   "source": [
    "\"\"\"\n",
    "Gets the indexes of all the relevant businesses that are restaurants/bars/coffee shops\n",
    "\"\"\"\n",
    "\n",
    "key_words = [\"Restaurants\", \"Food\", \"Coffee\", \"Tea\", \"Bars\"]\n",
    "selected_business = []\n",
    "for ind, val in enumerate(business_df.categories.values):\n",
    "    if val == None:\n",
    "        continue\n",
    "    if any(x in val for x in key_words):\n",
    "        selected_business.append(ind)"
   ]
  },
  {
   "cell_type": "code",
   "execution_count": 4,
   "metadata": {},
   "outputs": [],
   "source": [
    "business_subset = business_df.iloc[selected_business]\n",
    "selected_ids = business_subset.business_id.values"
   ]
  },
  {
   "cell_type": "code",
   "execution_count": 5,
   "metadata": {},
   "outputs": [],
   "source": [
    "#Gets first 1,000,000 reviews as reviews_json is a generator\n",
    "rev_df = next(reviews_json)"
   ]
  },
  {
   "cell_type": "code",
   "execution_count": 6,
   "metadata": {},
   "outputs": [],
   "source": [
    "\"\"\"\n",
    "Converts the reviews dataframe to contain only the selected businesses\n",
    "\"\"\"\n",
    "reviews = rev_df[[\"text\", \"business_id\"]]\n",
    "reviews = reviews[reviews['business_id'].isin(selected_ids)]"
   ]
  },
  {
   "cell_type": "code",
   "execution_count": 9,
   "metadata": {},
   "outputs": [
    {
     "name": "stdout",
     "output_type": "stream",
     "text": [
      "Number of reviews:  86085\n"
     ]
    }
   ],
   "source": [
    "reviews = filter_reviews(reviews)"
   ]
  },
  {
   "cell_type": "code",
   "execution_count": 11,
   "metadata": {},
   "outputs": [],
   "source": [
    "\"\"\"\n",
    "Saves a txt file with plain text of relevant reviews for use in finetuning GPT2 model\n",
    "\"\"\"\n",
    "np.savetxt('reviews.txt', reviews, fmt='%s')"
   ]
  },
  {
   "cell_type": "code",
   "execution_count": 12,
   "metadata": {},
   "outputs": [],
   "source": [
    "\"\"\"\n",
    "Creates a dataset for training a classifier\n",
    "\"\"\"\n",
    "#gets the next 1,000,000 reviews after the first batch\n",
    "real_reviews = next(reviews_json)\n",
    "real_reviews = real_reviews[[\"text\", \"business_id\"]]\n",
    "real_reviews = real_reviews[real_reviews['business_id'].isin(selected_ids)]\n",
    "real_reviews = filter_reviews(real_reviews)\n",
    "real_reviews_df = pd.DataFrame(real_reviews, columns=['Review'])\n",
    "real_reviews_df['Real']=1"
   ]
  },
  {
   "cell_type": "code",
   "execution_count": 34,
   "metadata": {},
   "outputs": [
    {
     "data": {
      "text/plain": [
       "Index(['Review', 'Real'], dtype='object')"
      ]
     },
     "execution_count": 34,
     "metadata": {},
     "output_type": "execute_result"
    }
   ],
   "source": [
    "real_reviews_df.columns"
   ]
  },
  {
   "cell_type": "code",
   "execution_count": 35,
   "metadata": {},
   "outputs": [],
   "source": [
    "real_reviews_df.to_csv(\"real_reviews.csv\", index=False)"
   ]
  },
  {
   "cell_type": "code",
   "execution_count": null,
   "metadata": {},
   "outputs": [],
   "source": []
  }
 ],
 "metadata": {
  "kernelspec": {
   "display_name": "Python 3",
   "language": "python",
   "name": "python3"
  },
  "language_info": {
   "codemirror_mode": {
    "name": "ipython",
    "version": 3
   },
   "file_extension": ".py",
   "mimetype": "text/x-python",
   "name": "python",
   "nbconvert_exporter": "python",
   "pygments_lexer": "ipython3",
   "version": "3.7.6"
  }
 },
 "nbformat": 4,
 "nbformat_minor": 4
}
