{
 "cells": [
  {
   "cell_type": "code",
   "execution_count": 28,
   "metadata": {},
   "outputs": [],
   "source": [
    "import pandas as pd\n",
    "import numpy as np\n",
    "\n",
    "\n",
    "reviews_path = 'yelp_data/yelp_academic_dataset_review.json'\n",
    "business_path = 'yelp_data/yelp_academic_dataset_business.json'"
   ]
  },
  {
   "cell_type": "code",
   "execution_count": 29,
   "metadata": {},
   "outputs": [],
   "source": [
    "reviews_json = pd.read_json(reviews_path, lines=True, chunksize=1000000)\n",
    "business_df = pd.read_json(business_path, lines=True)"
   ]
  },
  {
   "cell_type": "code",
   "execution_count": 30,
   "metadata": {},
   "outputs": [],
   "source": [
    "\"\"\"\n",
    "Gets the indexes of all the relevant businesses that are restaurants/bars/coffee shops\n",
    "\"\"\"\n",
    "\n",
    "key_words = [\"Restaurants\", \"Food\", \"Coffee\", \"Tea\", \"Bars\"]\n",
    "selected_business = []\n",
    "for ind, val in enumerate(business_df.categories.values):\n",
    "    if val == None:\n",
    "        continue\n",
    "    if any(x in val for x in key_words):\n",
    "        selected_business.append(ind)"
   ]
  },
  {
   "cell_type": "code",
   "execution_count": 31,
   "metadata": {},
   "outputs": [],
   "source": [
    "business_subset = business_df.iloc[selected_business]\n",
    "selected_ids = business_subset.business_id.values"
   ]
  },
  {
   "cell_type": "code",
   "execution_count": 32,
   "metadata": {},
   "outputs": [],
   "source": [
    "#Gets first 1,000,000 reviews as reviews_json is a generator\n",
    "rev_df = next(reviews_json)"
   ]
  },
  {
   "cell_type": "code",
   "execution_count": 33,
   "metadata": {},
   "outputs": [],
   "source": [
    "\"\"\"\n",
    "Converts the reviews dataframe to contain only the selected businesses\n",
    "\"\"\"\n",
    "reviews = rev_df[[\"text\", \"business_id\"]]\n",
    "reviews = reviews[reviews['business_id'].isin(selected_ids)]"
   ]
  },
  {
   "cell_type": "code",
   "execution_count": 36,
   "metadata": {},
   "outputs": [],
   "source": [
    "\"\"\"\n",
    "Filters out very long reviews; this speeds up gpt2 fine-tuning, will have generate lengths of about 100\n",
    "\"\"\"\n",
    "res = []\n",
    "for i in reviews.text.values:\n",
    "    if len(i) < 150:\n",
    "        res.append(i)"
   ]
  },
  {
   "cell_type": "code",
   "execution_count": 37,
   "metadata": {},
   "outputs": [
    {
     "data": {
      "text/plain": [
       "86085"
      ]
     },
     "execution_count": 37,
     "metadata": {},
     "output_type": "execute_result"
    }
   ],
   "source": [
    "len(res)"
   ]
  },
  {
   "cell_type": "code",
   "execution_count": 38,
   "metadata": {},
   "outputs": [],
   "source": [
    "\"\"\"\n",
    "Saves a txt file with plain text of relevant reviews for use in finetuning GPT2 model\n",
    "\"\"\"\n",
    "np.savetxt('reviews.txt', res, fmt='%s')"
   ]
  },
  {
   "cell_type": "code",
   "execution_count": null,
   "metadata": {},
   "outputs": [],
   "source": []
  }
 ],
 "metadata": {
  "kernelspec": {
   "display_name": "Python 3",
   "language": "python",
   "name": "python3"
  },
  "language_info": {
   "codemirror_mode": {
    "name": "ipython",
    "version": 3
   },
   "file_extension": ".py",
   "mimetype": "text/x-python",
   "name": "python",
   "nbconvert_exporter": "python",
   "pygments_lexer": "ipython3",
   "version": "3.7.6"
  }
 },
 "nbformat": 4,
 "nbformat_minor": 4
}
