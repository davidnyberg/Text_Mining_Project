{
  "nbformat": 4,
  "nbformat_minor": 0,
  "metadata": {
    "colab": {
      "name": "text_classifier_lstm.ipynb",
      "provenance": [],
      "collapsed_sections": []
    },
    "kernelspec": {
      "name": "python3",
      "display_name": "Python 3"
    },
    "accelerator": "GPU"
  },
  "cells": [
    {
      "cell_type": "code",
      "metadata": {
        "id": "VTF-IzpOSMuG"
      },
      "source": [
        "from keras.models import Sequential\n",
        "from keras.layers import Dense\n",
        "from keras.layers import LSTM\n",
        "from keras.layers import Bidirectional\n",
        "from keras.layers import Input\n",
        "from keras.layers.embeddings import Embedding\n",
        "from keras.preprocessing import sequence\n",
        "import numpy as np\n",
        "import pickle\n",
        "import pandas as pd\n",
        "from sklearn.model_selection import train_test_split\n",
        "import tensorflow as tf\n",
        "from matplotlib import pyplot as plt"
      ],
      "execution_count": 39,
      "outputs": []
    },
    {
      "cell_type": "code",
      "metadata": {
        "id": "8mqRf0nnSO_q"
      },
      "source": [
        "\"\"\"\n",
        "Load data and setup train/test split\n",
        "~91k train reviews, ~39k test\n",
        "\"\"\"\n",
        "reviews = pd.read_csv(\"classifier_data.csv\")\n",
        "reviews.dropna(inplace=True)\n",
        "train, test = train_test_split(reviews, test_size=0.30, random_state=12)\n",
        "train_x = train['Review']\n",
        "train_y = train['Real']\n",
        "test_x = test['Review']\n",
        "test_y = test['Real']"
      ],
      "execution_count": 5,
      "outputs": []
    },
    {
      "cell_type": "code",
      "metadata": {
        "colab": {
          "base_uri": "https://localhost:8080/"
        },
        "id": "3ruMEZ3fHerC",
        "outputId": "34b215b4-671d-4d9b-d816-99ecd50aa031"
      },
      "source": [
        "train_x.values"
      ],
      "execution_count": 81,
      "outputs": [
        {
          "output_type": "execute_result",
          "data": {
            "text/plain": [
              "array(['Charged me ridiculous charge too much for the same thing worth consider have cheap get something small in town',\n",
              "       'Wow So delicious the perfect omelette and the wafer Great service too Definitely come back here for brunch',\n",
              "       'Really like the place and the food be great The service be a bite slow but we will be go back',\n",
              "       ...,\n",
              "       'Why be you close today have Tuesday and have I be look forward to try this place',\n",
              "       'Definitely one of the well all you can eat sushi bar in Vegas serve Will be impeccable atmosphere be amaze definitely return back',\n",
              "       'So glad to have a PHO place in NLV it be bomb I would really recommend for you guy to come and try it out'],\n",
              "      dtype=object)"
            ]
          },
          "metadata": {
            "tags": []
          },
          "execution_count": 81
        }
      ]
    },
    {
      "cell_type": "code",
      "metadata": {
        "id": "SWuHI_zTVHXO"
      },
      "source": [
        "\"\"\"\n",
        "SourceS:\n",
        "https://www.tensorflow.org/api_docs/python/tf/keras/preprocessing/text/Tokenizer\n",
        "https://towardsdatascience.com/tensorflow-2-0-data-transformation-for-text-classification-b86ee2ad8877\n",
        "https://www.tensorflow.org/tutorials/text/text_classification_rnn\n",
        "https://colab.research.google.com/github/tensorflow/docs/blob/master/site/en/tutorials/text/text_classification_rnn.ipynb#scrollTo=tBoyjjWg0Ac9\n",
        "\"\"\""
      ],
      "execution_count": null,
      "outputs": []
    },
    {
      "cell_type": "code",
      "metadata": {
        "id": "tnrI1MFJQEww"
      },
      "source": [
        "VOCAB_SIZE=10000\n",
        "encoder = tf.keras.layers.experimental.preprocessing.TextVectorization(\n",
        "    max_tokens=VOCAB_SIZE)\n",
        "encoder.adapt(list(train_x.values))"
      ],
      "execution_count": 89,
      "outputs": []
    },
    {
      "cell_type": "code",
      "metadata": {
        "colab": {
          "base_uri": "https://localhost:8080/"
        },
        "id": "dt_3Z4DbWkSO",
        "outputId": "14d88e78-9b9f-4862-e42e-4fcf4f8f7944"
      },
      "source": [
        "avg_len = 0\n",
        "counter = 0\n",
        "max = 0\n",
        "for i in x_train_tokens:\n",
        "  avg_len += len(i)\n",
        "  counter += 1\n",
        "  if len(i) > max:\n",
        "    max = len(i)\n",
        "print(max)\n",
        "print(avg_len/counter)"
      ],
      "execution_count": 9,
      "outputs": [
        {
          "output_type": "stream",
          "text": [
            "150\n",
            "18.4834198258422\n"
          ],
          "name": "stdout"
        }
      ]
    },
    {
      "cell_type": "code",
      "metadata": {
        "colab": {
          "base_uri": "https://localhost:8080/"
        },
        "id": "-W3LGOIVbeKf",
        "outputId": "c17ad5e8-1690-4cb6-dbaa-c52d18febee1"
      },
      "source": [
        "len(encoder.get_vocabulary())"
      ],
      "execution_count": 90,
      "outputs": [
        {
          "output_type": "execute_result",
          "data": {
            "text/plain": [
              "10000"
            ]
          },
          "metadata": {
            "tags": []
          },
          "execution_count": 90
        }
      ]
    },
    {
      "cell_type": "code",
      "metadata": {
        "id": "mVtduF4ASePZ"
      },
      "source": [
        "callback = tf.keras.callbacks.EarlyStopping(monitor='val_loss', patience=5, restore_best_weights=True)\n",
        "\n",
        "model = Sequential()\n",
        "model.add(encoder)\n",
        "model.add(Embedding(VOCAB_SIZE, 128, mask_zero=True))\n",
        "model.add(Bidirectional(LSTM(64, activation='tanh', dropout=0.15, return_sequences=True)))\n",
        "model.add(Bidirectional(LSTM(32, activation='tanh', dropout=0.15)))\n",
        "model.add(Dense(32, activation='relu'))\n",
        "model.add(Dense(1, activation='relu'))\n",
        "\n",
        "optimizer = tf.keras.optimizers.Adam()\n",
        "loss = tf.keras.losses.BinaryCrossentropy(from_logits=True) #from logits as we get probability output\n",
        "model.compile(loss=loss, optimizer=optimizer, metrics=['accuracy'])"
      ],
      "execution_count": 132,
      "outputs": []
    },
    {
      "cell_type": "code",
      "metadata": {
        "colab": {
          "base_uri": "https://localhost:8080/"
        },
        "id": "lhCUcZz_aT6K",
        "outputId": "c59e011d-c802-42db-8873-594d2dabd1b0"
      },
      "source": [
        "history = model.fit(train_x.values,\n",
        "                    train_y.values,\n",
        "                    epochs = 10,\n",
        "                    validation_split=0.15,\n",
        "                    batch_size=64,\n",
        "                    callbacks=[callback]\n",
        "                    )"
      ],
      "execution_count": 133,
      "outputs": [
        {
          "output_type": "stream",
          "text": [
            "Epoch 1/10\n",
            "1208/1208 [==============================] - 62s 38ms/step - loss: 0.6760 - accuracy: 0.5705 - val_loss: 0.6645 - val_accuracy: 0.5996\n",
            "Epoch 2/10\n",
            "1208/1208 [==============================] - 42s 35ms/step - loss: 0.6392 - accuracy: 0.6706 - val_loss: 0.6663 - val_accuracy: 0.6559\n",
            "Epoch 3/10\n",
            "1208/1208 [==============================] - 43s 35ms/step - loss: 0.6145 - accuracy: 0.7002 - val_loss: 0.6743 - val_accuracy: 0.6374\n",
            "Epoch 4/10\n",
            "1208/1208 [==============================] - 42s 35ms/step - loss: 0.5908 - accuracy: 0.7270 - val_loss: 0.6944 - val_accuracy: 0.6254\n",
            "Epoch 5/10\n",
            "1208/1208 [==============================] - 42s 35ms/step - loss: 0.5655 - accuracy: 0.7494 - val_loss: 0.7275 - val_accuracy: 0.6282\n",
            "Epoch 6/10\n",
            "1208/1208 [==============================] - 43s 35ms/step - loss: 0.5504 - accuracy: 0.7628 - val_loss: 0.7197 - val_accuracy: 0.6227\n"
          ],
          "name": "stdout"
        }
      ]
    },
    {
      "cell_type": "code",
      "metadata": {
        "colab": {
          "base_uri": "https://localhost:8080/",
          "height": 354
        },
        "id": "bgqTZEjpMmjn",
        "outputId": "bb2efb7c-0092-4f2d-f15e-585e628f8be6"
      },
      "source": [
        "#Source: https://www.tensorflow.org/tutorials/text/text_classification_rnn\n",
        "def plot_graphs(history, metric):\n",
        "  plt.plot(history.history[metric])\n",
        "  plt.plot(history.history['val_'+metric], '')\n",
        "  plt.xlabel(\"Epochs\")\n",
        "  plt.ylabel(metric)\n",
        "  plt.legend([metric, 'val_'+metric])\n",
        "plt.figure(figsize=(16,8))\n",
        "plt.subplot(1,2,1)\n",
        "plot_graphs(history, 'accuracy')\n",
        "plt.ylim(None,1)\n",
        "plt.subplot(1,2,2)\n",
        "plot_graphs(history, 'loss')\n",
        "plt.ylim(0,None)"
      ],
      "execution_count": 134,
      "outputs": [
        {
          "output_type": "execute_result",
          "data": {
            "text/plain": [
              "(0.0, 0.7361176997423172)"
            ]
          },
          "metadata": {
            "tags": []
          },
          "execution_count": 134
        },
        {
          "output_type": "display_data",
          "data": {
            "image/png": "[encoded data removed]",
            "text/plain": [
              "<Figure size 1152x576 with 2 Axes>"
            ]
          },
          "metadata": {
            "tags": [],
            "needs_background": "light"
          }
        }
      ]
    },
    {
      "cell_type": "code",
      "metadata": {
        "colab": {
          "base_uri": "https://localhost:8080/"
        },
        "id": "oE4o16w5IcT6",
        "outputId": "03e6f7d6-3726-4048-9191-37e0078552bb"
      },
      "source": [
        "tf.keras.models.save_model(\n",
        "    model, \"lstm\"\n",
        "    )"
      ],
      "execution_count": 135,
      "outputs": [
        {
          "output_type": "stream",
          "text": [
            "WARNING:absl:Found untraced functions such as lstm_cell_154_layer_call_and_return_conditional_losses, lstm_cell_154_layer_call_fn, lstm_cell_155_layer_call_and_return_conditional_losses, lstm_cell_155_layer_call_fn, lstm_cell_157_layer_call_and_return_conditional_losses while saving (showing 5 of 20). These functions will not be directly callable after loading.\n",
            "WARNING:absl:Found untraced functions such as lstm_cell_154_layer_call_and_return_conditional_losses, lstm_cell_154_layer_call_fn, lstm_cell_155_layer_call_and_return_conditional_losses, lstm_cell_155_layer_call_fn, lstm_cell_157_layer_call_and_return_conditional_losses while saving (showing 5 of 20). These functions will not be directly callable after loading.\n"
          ],
          "name": "stderr"
        },
        {
          "output_type": "stream",
          "text": [
            "INFO:tensorflow:Assets written to: lstm/assets\n"
          ],
          "name": "stdout"
        },
        {
          "output_type": "stream",
          "text": [
            "INFO:tensorflow:Assets written to: lstm/assets\n"
          ],
          "name": "stderr"
        }
      ]
    },
    {
      "cell_type": "code",
      "metadata": {
        "id": "0Nw6L9RsdMdy"
      },
      "source": [
        "loaded_model = tf.keras.models.load_model('lstm')"
      ],
      "execution_count": 136,
      "outputs": []
    },
    {
      "cell_type": "code",
      "metadata": {
        "id": "Ru5RxL9cM7HB"
      },
      "source": [
        "sample_text = ('good pizza')\n",
        "predictions = model.predict(np.array([sample_text]))"
      ],
      "execution_count": 139,
      "outputs": []
    },
    {
      "cell_type": "code",
      "metadata": {
        "colab": {
          "base_uri": "https://localhost:8080/"
        },
        "id": "I1VhNp4AOLo1",
        "outputId": "1549f94a-3991-4a26-ee53-f760743829c2"
      },
      "source": [
        "predictions"
      ],
      "execution_count": 140,
      "outputs": [
        {
          "output_type": "execute_result",
          "data": {
            "text/plain": [
              "array([[0.]], dtype=float32)"
            ]
          },
          "metadata": {
            "tags": []
          },
          "execution_count": 140
        }
      ]
    },
    {
      "cell_type": "code",
      "metadata": {
        "colab": {
          "base_uri": "https://localhost:8080/",
          "height": 139
        },
        "id": "5tg5bRpClzME",
        "outputId": "9667f5e2-3fab-49f2-9f1d-4a8cb5a00cd3"
      },
      "source": [
        "from google.colab import files\n",
        "!zip -r /content/file.zip /content/lstm\n",
        "files.download('/content/file.zip') "
      ],
      "execution_count": 146,
      "outputs": [
        {
          "output_type": "stream",
          "text": [
            "updating: content/lstm/ (stored 0%)\n",
            "updating: content/lstm/variables/ (stored 0%)\n",
            "updating: content/lstm/variables/variables.index (deflated 68%)\n",
            "updating: content/lstm/variables/variables.data-00000-of-00001 (deflated 14%)\n",
            "updating: content/lstm/assets/ (stored 0%)\n",
            "updating: content/lstm/saved_model.pb (deflated 90%)\n"
          ],
          "name": "stdout"
        },
        {
          "output_type": "display_data",
          "data": {
            "application/javascript": [
              "\n",
              "    async function download(id, filename, size) {\n",
              "      if (!google.colab.kernel.accessAllowed) {\n",
              "        return;\n",
              "      }\n",
              "      const div = document.createElement('div');\n",
              "      const label = document.createElement('label');\n",
              "      label.textContent = `Downloading \"${filename}\": `;\n",
              "      div.appendChild(label);\n",
              "      const progress = document.createElement('progress');\n",
              "      progress.max = size;\n",
              "      div.appendChild(progress);\n",
              "      document.body.appendChild(div);\n",
              "\n",
              "      const buffers = [];\n",
              "      let downloaded = 0;\n",
              "\n",
              "      const channel = await google.colab.kernel.comms.open(id);\n",
              "      // Send a message to notify the kernel that we're ready.\n",
              "      channel.send({})\n",
              "\n",
              "      for await (const message of channel.messages) {\n",
              "        // Send a message to notify the kernel that we're ready.\n",
              "        channel.send({})\n",
              "        if (message.buffers) {\n",
              "          for (const buffer of message.buffers) {\n",
              "            buffers.push(buffer);\n",
              "            downloaded += buffer.byteLength;\n",
              "            progress.value = downloaded;\n",
              "          }\n",
              "        }\n",
              "      }\n",
              "      const blob = new Blob(buffers, {type: 'application/binary'});\n",
              "      const a = document.createElement('a');\n",
              "      a.href = window.URL.createObjectURL(blob);\n",
              "      a.download = filename;\n",
              "      div.appendChild(a);\n",
              "      a.click();\n",
              "      div.remove();\n",
              "    }\n",
              "  "
            ],
            "text/plain": [
              "<IPython.core.display.Javascript object>"
            ]
          },
          "metadata": {
            "tags": []
          }
        },
        {
          "output_type": "display_data",
          "data": {
            "application/javascript": [
              "download(\"download_7e9edd3d-083b-45a4-9432-407822ceb453\", \"file.zip\", 16288317)"
            ],
            "text/plain": [
              "<IPython.core.display.Javascript object>"
            ]
          },
          "metadata": {
            "tags": []
          }
        }
      ]
    }
  ]
}